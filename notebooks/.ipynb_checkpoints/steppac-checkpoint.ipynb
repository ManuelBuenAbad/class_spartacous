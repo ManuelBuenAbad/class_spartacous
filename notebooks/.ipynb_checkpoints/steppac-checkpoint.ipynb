{
 "cells": [
  {
   "cell_type": "code",
   "execution_count": 3,
   "metadata": {},
   "outputs": [],
   "source": [
    "# autoreloading for imported modules\n",
    "%load_ext autoreload\n",
    "%autoreload 2\n",
    "\n",
    "# numpy\n",
    "import numpy as np\n",
    "from numpy import pi, sqrt, log, log10, power, exp\n",
    "\n",
    "#scipy\n",
    "from scipy.interpolate import interp1d\n",
    "\n",
    "# matplotlib\n",
    "import matplotlib.pyplot as plt\n",
    "from matplotlib import rcParams\n",
    "from matplotlib import rc\n",
    "from matplotlib.lines import Line2D\n",
    "\n",
    "# other\n",
    "import os\n",
    "import sys\n",
    "\n",
    "from tqdm import tqdm\n",
    "\n",
    "# matplotlib style\n",
    "# %matplotlib inline\n",
    "\n",
    "# %config InlineBackend.figure_format = \"retina\"\n",
    "# rcParams['figure.figsize'] = (13, 8)\n",
    "# rcParams['font.family'] = 'serif'\n",
    "# rcParams['font.serif'] = ['New Times Roman']\n",
    "# rc('text', usetex=True)\n",
    "\n",
    "# current directory\n",
    "current_dir = os.getcwd()\n",
    "\n",
    "# include paths from above\n",
    "sys.path.insert(0, '../')"
   ]
  },
  {
   "cell_type": "code",
   "execution_count": 4,
   "metadata": {},
   "outputs": [],
   "source": [
    "# import classy module\n",
    "from classy import Class"
   ]
  },
  {
   "cell_type": "code",
   "execution_count": 5,
   "metadata": {},
   "outputs": [],
   "source": [
    "common_settings = {'omega_b':0.0223828,\n",
    "                   'omega_dm_tot':0.1201075,\n",
    "                   # 'H0':67.32117,\n",
    "                   '100*theta_s':1.04179712,\n",
    "                   'A_s':2.100549e-09,\n",
    "                   'n_s':0.9660499,\n",
    "                   'tau_reio':0.05430842,\n",
    "                   'N_ur':2.046,\n",
    "                   'N_ncdm':1,\n",
    "                   'm_ncdm':0.06,\n",
    "                   'T_ncdm':0.7137658555036082,\n",
    "                   # 'YHe':0.2454006,\n",
    "                   'YHe':'BBN',\n",
    "                   'output':'tCl,pCl,lCl,mPk',\n",
    "                   'lensing':'yes',\n",
    "                   'P_k_max_1/Mpc':30.0,\n",
    "                   'non linear':'halofit',\n",
    "                   'k_output_values':'0.01,0.1,1.,2.'\n",
    "                  }\n",
    "\n",
    "verbosity = {'input_verbose':2,\n",
    "             'background_verbose':2,\n",
    "             'thermodynamics_verbose':2,\n",
    "             'perturbations_verbose':2\n",
    "            }"
   ]
  },
  {
   "cell_type": "markdown",
   "metadata": {},
   "source": [
    "$\\Lambda$CDM"
   ]
  },
  {
   "cell_type": "code",
   "execution_count": 6,
   "metadata": {},
   "outputs": [],
   "source": [
    "# create instance of the class \"Class\"\n",
    "LCDM = Class()\n",
    "# pass input parameters\n",
    "LCDM.set(common_settings)\n",
    "LCDM.set(verbosity)\n",
    "# run class\n",
    "LCDM.compute()"
   ]
  },
  {
   "cell_type": "markdown",
   "metadata": {},
   "source": [
    "PAcDM"
   ]
  },
  {
   "cell_type": "code",
   "execution_count": 22,
   "metadata": {},
   "outputs": [],
   "source": [
    "pacdm_params = {'omega_dm_tot':0.121063122941,\n",
    "                'f_pacdm':0.03,\n",
    "                'N_IR':0.05,\n",
    "                'r_g':0.,\n",
    "                'a_tr':0.99,\n",
    "                'GH_ratio':1000.,\n",
    "                'a_ref_pacdr':1.e-8\n",
    "               }\n",
    "\n",
    "PACDM = Class()\n",
    "\n",
    "PACDM.set(common_settings)\n",
    "PACDM.set(pacdm_params)\n",
    "PACDM.set(verbosity)\n",
    "\n",
    "PACDM.compute()"
   ]
  },
  {
   "cell_type": "markdown",
   "metadata": {},
   "source": [
    "SPartAcous"
   ]
  },
  {
   "cell_type": "code",
   "execution_count": 23,
   "metadata": {},
   "outputs": [],
   "source": [
    "spartacous_params = {'omega_dm_tot':0.121063122941,\n",
    "                  'f_pacdm':0.03,\n",
    "                  'm_pacdm':10.,\n",
    "                  'N_IR':0.05,\n",
    "                  'g_IR':2.,\n",
    "                  'g_UV':5.5,\n",
    "                  'a_tr':3.16e-5,#log10(zt) ~= 4.5\n",
    "                  'GH_ratio':1000.,\n",
    "                  'a_ref_pacdr':1.e-8\n",
    "                 }\n",
    "\n",
    "STEPPAC = Class()\n",
    "\n",
    "STEPPAC.set(common_settings)\n",
    "STEPPAC.set(spartacous_params)\n",
    "STEPPAC.set(verbosity)\n",
    "\n",
    "STEPPAC.compute()"
   ]
  },
  {
   "cell_type": "markdown",
   "metadata": {},
   "source": [
    "$P(k)$"
   ]
  },
  {
   "cell_type": "code",
   "execution_count": 24,
   "metadata": {},
   "outputs": [
    {
     "name": "stdout",
     "output_type": "stream",
     "text": [
      "3405.922618737852\n",
      "3405.8966667282575\n",
      "3405.922479461304\n"
     ]
    }
   ],
   "source": [
    "print(LCDM.z_eq())\n",
    "print(PACDM.z_eq())\n",
    "print(STEPPAC.z_eq())"
   ]
  },
  {
   "cell_type": "code",
   "execution_count": 25,
   "metadata": {},
   "outputs": [],
   "source": [
    "h = LCDM.h()\n",
    "\n",
    "# Getting P(k) at redhsift z=0\n",
    "\n",
    "kk = np.logspace(-5, log10(30.), 300) # Nadler's values for k\n",
    "LPk = [] # P(k) in (Mpc/h)**3\n",
    "PPk = []\n",
    "SPk = []\n",
    "\n",
    "for k in kk:\n",
    "    Lh = LCDM.h()\n",
    "    Ph = PACDM.h()\n",
    "    Sh = STEPPAC.h()\n",
    "    \n",
    "    LPk.append(LCDM.pk_lin(k*Lh, 0.)*Lh**3) # function .pk(k,z)\n",
    "    PPk.append(PACDM.pk_lin(k*Ph, 0.)*Ph**3)\n",
    "    SPk.append(STEPPAC.pk_lin(k*Sh, 0.)*Sh**3)\n",
    "    \n",
    "\n",
    "LPk=np.array(LPk)\n",
    "PPk=np.array(PPk)\n",
    "SPk=np.array(SPk)"
   ]
  },
  {
   "cell_type": "code",
   "execution_count": 26,
   "metadata": {},
   "outputs": [
    {
     "data": {
      "image/png": "[encoded data removed]",
      "text/plain": [
       "<Figure size 432x288 with 1 Axes>"
      ]
     },
     "metadata": {
      "needs_background": "light"
     },
     "output_type": "display_data"
    }
   ],
   "source": [
    "plt.plot(kk, PPk/LPk, label=\"PAcDM\")\n",
    "plt.plot(kk, SPk/LPk, label=\"SPartAcous\")\n",
    "\n",
    "plt.xscale('log');\n",
    "plt.ylabel(\"T^2(k)\");plt.xlabel(\"k [h/Mpc]\");\n",
    "plt.legend();\n",
    "plt.title(\"f_pacdm = 3%, N_IR = 0.05 (log10 z_t = 4.5)\");\n",
    "# plt.savefig(\"./test_Pk.pdf\");"
   ]
  },
  {
   "cell_type": "code",
   "execution_count": 13,
   "metadata": {},
   "outputs": [],
   "source": [
    "LCDM.empty()\n",
    "PACDM.empty()\n",
    "STEPPAC.empty()"
   ]
  },
  {
   "cell_type": "code",
   "execution_count": 28,
   "metadata": {},
   "outputs": [],
   "source": [
    "common_settings = {'omega_b':0.0223828,\n",
    "                   'omega_dm_tot':0.1201075,\n",
    "                   'H0':67.32117,\n",
    "                   'A_s':2.100549e-09,\n",
    "                   'n_s':0.9660499,\n",
    "                   'tau_reio':0.05430842,\n",
    "                   'N_ur':2.046,\n",
    "                   'N_ncdm':1,\n",
    "                   'm_ncdm':0.06,\n",
    "                   'T_ncdm':0.7137658555036082,\n",
    "                   # 'YHe':0.2454006,\n",
    "                   'YHe':'BBN',\n",
    "                   'output':'tCl,pCl,lCl,mPk',\n",
    "                   'lensing':'yes',\n",
    "                   'P_k_max_1/Mpc':30.0,\n",
    "                   'non linear':'halofit',\n",
    "                   'k_output_values':'0.01,0.1,1.,2.'\n",
    "                  }\n",
    "\n",
    "pacdm_params = {'omega_dm_tot':0.121063122941,\n",
    "                'f_pacdm':0.03,\n",
    "                'r_g':0.,\n",
    "                'a_tr':0.99,\n",
    "                'GH_ratio':1000.,\n",
    "                'a_ref_pacdr':1.e-8\n",
    "               }\n",
    "\n",
    "\n",
    "Neffs = np.array([0.1, 0.05, 0.01, 0.005, 0.001])\n",
    "\n",
    "PACDMs = []\n",
    "for i, Neff in enumerate(Neffs):\n",
    "    PACDM = Class()\n",
    "    PACDM.set(common_settings)\n",
    "    PACDM.set(pacdm_params)\n",
    "    PACDM.set({'N_IR':Neff})\n",
    "    PACDM.set(verbosity)\n",
    "    PACDM.compute()\n",
    "    PACDMs.append(PACDM)"
   ]
  },
  {
   "cell_type": "code",
   "execution_count": 34,
   "metadata": {},
   "outputs": [
    {
     "name": "stdout",
     "output_type": "stream",
     "text": [
      "3405.922618737852\n",
      "3383.3390514085177\n",
      "3405.8966667282575\n",
      "3424.1604393192465\n",
      "3426.457259277555\n",
      "3428.29683992822\n"
     ]
    }
   ],
   "source": [
    "print(LCDM.z_eq())\n",
    "for i, Neff in enumerate(Neffs):\n",
    "    PACDM = PACDMs[i]\n",
    "    print(PACDM.z_eq())"
   ]
  },
  {
   "cell_type": "code",
   "execution_count": 32,
   "metadata": {},
   "outputs": [],
   "source": [
    "# Getting P(k) at redhsift z=0\n",
    "\n",
    "kk = np.logspace(-5, log10(30.), 300) # Nadler's values for k\n",
    "LPk = [] # P(k) in (Mpc/h)**3\n",
    "PPks = [0]*len(Neffs)\n",
    "\n",
    "for k in kk:\n",
    "    Lh = LCDM.h()\n",
    "    LPk.append(LCDM.pk_lin(k*Lh, 0.)*Lh**3) # function .pk(k,z)\n",
    "\n",
    "LPk=np.array(LPk)\n",
    "\n",
    "for i, Neff in enumerate(Neffs):\n",
    "    PPks[i] = []\n",
    "    PACDM = PACDMs[i]\n",
    "    Ph = PACDM.h()\n",
    "    for k in kk:\n",
    "        PPks[i].append(PACDM.pk_lin(k*Ph, 0.)*Ph**3)\n",
    "    \n",
    "    PPks[i]=np.array(PPks[i])"
   ]
  },
  {
   "cell_type": "code",
   "execution_count": 35,
   "metadata": {},
   "outputs": [
    {
     "data": {
      "image/png": "[encoded data removed]",
      "text/plain": [
       "<Figure size 432x288 with 1 Axes>"
      ]
     },
     "metadata": {
      "needs_background": "light"
     },
     "output_type": "display_data"
    }
   ],
   "source": [
    "for i, Neff in enumerate(Neffs):\n",
    "    plt.plot(kk, PPks[i]/LPk, label=\"Neff = {}\".format(Neff))\n",
    "\n",
    "plt.xscale('log');\n",
    "plt.ylabel(\"T^2(k)\");plt.xlabel(\"k [h/Mpc]\");\n",
    "plt.legend();\n",
    "plt.title(\"f_pacdm = 3%\");\n",
    "plt.savefig(\"./PACDM_Neff.pdf\");"
   ]
  },
  {
   "cell_type": "code",
   "execution_count": null,
   "metadata": {},
   "outputs": [],
   "source": []
  }
 ],
 "metadata": {
  "kernelspec": {
   "display_name": "Python 3",
   "language": "python",
   "name": "python3"
  },
  "language_info": {
   "codemirror_mode": {
    "name": "ipython",
    "version": 3
   },
   "file_extension": ".py",
   "mimetype": "text/x-python",
   "name": "python",
   "nbconvert_exporter": "python",
   "pygments_lexer": "ipython3",
   "version": "3.7.12"
  }
 },
 "nbformat": 4,
 "nbformat_minor": 4
}
